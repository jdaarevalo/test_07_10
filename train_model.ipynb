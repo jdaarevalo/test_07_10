{
 "cells": [
  {
   "cell_type": "code",
   "execution_count": 1,
   "metadata": {},
   "outputs": [],
   "source": [
    "# Importamos los modulos necesarios\n",
    "import pyspark  #python package"
   ]
  },
  {
   "cell_type": "code",
   "execution_count": 2,
   "metadata": {},
   "outputs": [],
   "source": [
    "# objeto principal o la base a partir de la cual cuelga toda la funcionalidad de Apache Spark\n",
    "from pyspark.sql import SparkSession\n",
    "\n",
    "# Se trata del context básico de Spark, desde donde se crean el resto de variables \n",
    "# que maneja el framework. Sólo un SparkContext puede estar activo por JVM.\n",
    "from pyspark import SparkContext\n",
    "\n",
    "# el objeto functions del modulo sql define las funciones estándar incorporadas \n",
    "# para trabajar con (valores producidos) columnas.\n",
    "import pyspark.sql.functions as func"
   ]
  },
  {
   "cell_type": "code",
   "execution_count": 3,
   "metadata": {},
   "outputs": [],
   "source": [
    "# create a new spark session, que sera la base para nuestra aplicacion\n",
    "\n",
    "spark = SparkSession.builder\\\n",
    "                    .appName(\"Test\")\\\n",
    "                    .getOrCreate()\n",
    "\n",
    "#spark sera el punto de entrada para la aplicacion"
   ]
  },
  {
   "cell_type": "code",
   "execution_count": 4,
   "metadata": {},
   "outputs": [
    {
     "name": "stdout",
     "output_type": "stream",
     "text": [
      "test_beneficiario.csv             test_pacientes_aprobados.csv\r\n",
      "test_labels_aprovisionadores.csv  test_pacientes_rechazados.csv\r\n"
     ]
    }
   ],
   "source": [
    "\n",
    "ls prueba_cientifico_datos/data_test/"
   ]
  },
  {
   "cell_type": "code",
   "execution_count": 5,
   "metadata": {},
   "outputs": [],
   "source": [
    "df_beneficiario = spark.read.format(\"csv\")\\\n",
    "                            .option(\"header\", \"true\")\\\n",
    "                            .option(\"inferSchema\", \"true\")\\\n",
    "                            .load(\"prueba_cientifico_datos/data_train/train_beneficiario.csv\")\n",
    "df_aprovisionadores = spark.read.format(\"csv\")\\\n",
    "                            .option(\"header\", \"true\")\\\n",
    "                            .option(\"inferSchema\", \"true\")\\\n",
    "                            .load(\"prueba_cientifico_datos/data_train/train_labels_aprovisionadores.csv\")\n",
    "df_pacientes_aprobados = spark.read.format(\"csv\")\\\n",
    "                            .option(\"header\", \"true\")\\\n",
    "                            .option(\"inferSchema\", \"true\")\\\n",
    "                            .load(\"prueba_cientifico_datos/data_train/train_pacientes_aprobados.csv\")\n",
    "df_pacientes_rechazados = spark.read.format(\"csv\")\\\n",
    "                            .option(\"header\", \"true\")\\\n",
    "                            .option(\"inferSchema\", \"true\")\\\n",
    "                            .load(\"prueba_cientifico_datos/data_train/train_pacientes_rechazados.csv\")"
   ]
  },
  {
   "cell_type": "code",
   "execution_count": 6,
   "metadata": {},
   "outputs": [
    {
     "name": "stdout",
     "output_type": "stream",
     "text": [
      "root\n",
      " |-- alzheimer: integer (nullable = true)\n",
      " |-- artritis_reumatoide: integer (nullable = true)\n",
      " |-- cancer: integer (nullable = true)\n",
      " |-- ciudad: integer (nullable = true)\n",
      " |-- cod_beneficiario: string (nullable = true)\n",
      " |-- corazon_isquemico: integer (nullable = true)\n",
      " |-- depresion: integer (nullable = true)\n",
      " |-- diabetes: integer (nullable = true)\n",
      " |-- enfermedad_renal: string (nullable = true)\n",
      " |-- genero: integer (nullable = true)\n",
      " |-- infarto_cerebral: integer (nullable = true)\n",
      " |-- ips_deducible_anual: integer (nullable = true)\n",
      " |-- ips_reembolso_anual: integer (nullable = true)\n",
      " |-- meses_parte_a: integer (nullable = true)\n",
      " |-- meses_parte_b: integer (nullable = true)\n",
      " |-- muerte: timestamp (nullable = true)\n",
      " |-- municipio: integer (nullable = true)\n",
      " |-- nacimiento: timestamp (nullable = true)\n",
      " |-- obstruccion_pulmonar: integer (nullable = true)\n",
      " |-- op_deducible_anual: integer (nullable = true)\n",
      " |-- op_reembolso_anual: integer (nullable = true)\n",
      " |-- osteoporosis: integer (nullable = true)\n",
      " |-- problemas_corazon: integer (nullable = true)\n",
      " |-- problemas_rinon: integer (nullable = true)\n",
      " |-- raza: integer (nullable = true)\n",
      "\n"
     ]
    }
   ],
   "source": [
    "df_beneficiario.printSchema()"
   ]
  },
  {
   "cell_type": "code",
   "execution_count": 7,
   "metadata": {},
   "outputs": [
    {
     "name": "stdout",
     "output_type": "stream",
     "text": [
      "root\n",
      " |-- aprovisionador: string (nullable = true)\n",
      " |-- es_fraudulento: string (nullable = true)\n",
      "\n"
     ]
    }
   ],
   "source": [
    "df_aprovisionadores.printSchema()"
   ]
  },
  {
   "cell_type": "code",
   "execution_count": 8,
   "metadata": {},
   "outputs": [
    {
     "name": "stdout",
     "output_type": "stream",
     "text": [
      "root\n",
      " |-- aprovisionador: string (nullable = true)\n",
      " |-- cod_beneficiario: string (nullable = true)\n",
      " |-- deducible: double (nullable = true)\n",
      " |-- diagnostico_a: string (nullable = true)\n",
      " |-- diagnostico_admision: string (nullable = true)\n",
      " |-- diagnostico_b: string (nullable = true)\n",
      " |-- diagnostico_c: string (nullable = true)\n",
      " |-- diagnostico_d: string (nullable = true)\n",
      " |-- diagnostico_e: string (nullable = true)\n",
      " |-- diagnostico_f: string (nullable = true)\n",
      " |-- diagnostico_g: string (nullable = true)\n",
      " |-- diagnostico_h: string (nullable = true)\n",
      " |-- diagnostico_i: string (nullable = true)\n",
      " |-- diagnostico_j: string (nullable = true)\n",
      " |-- fecha_admision: timestamp (nullable = true)\n",
      " |-- fecha_desembolso: timestamp (nullable = true)\n",
      " |-- fin_peticion: timestamp (nullable = true)\n",
      " |-- grupo_diagnostico: string (nullable = true)\n",
      " |-- id_peticion: string (nullable = true)\n",
      " |-- inicio_peticion: timestamp (nullable = true)\n",
      " |-- medico_atiende: string (nullable = true)\n",
      " |-- medico_operacion: string (nullable = true)\n",
      " |-- monto_reembolso: integer (nullable = true)\n",
      " |-- otros_medicos: string (nullable = true)\n",
      " |-- procedimiento_u: string (nullable = true)\n",
      " |-- procedimiento_v: double (nullable = true)\n",
      " |-- procedimiento_w: double (nullable = true)\n",
      " |-- procedimiento_x: double (nullable = true)\n",
      " |-- procedimiento_y: double (nullable = true)\n",
      " |-- procedimiento_z: double (nullable = true)\n",
      "\n"
     ]
    }
   ],
   "source": [
    "df_pacientes_aprobados.printSchema()"
   ]
  },
  {
   "cell_type": "code",
   "execution_count": 9,
   "metadata": {},
   "outputs": [
    {
     "name": "stdout",
     "output_type": "stream",
     "text": [
      "root\n",
      " |-- aprovisionador: string (nullable = true)\n",
      " |-- cod_beneficiario: string (nullable = true)\n",
      " |-- deducible: integer (nullable = true)\n",
      " |-- diagnostico_a: string (nullable = true)\n",
      " |-- diagnostico_admision: string (nullable = true)\n",
      " |-- diagnostico_b: string (nullable = true)\n",
      " |-- diagnostico_c: string (nullable = true)\n",
      " |-- diagnostico_d: string (nullable = true)\n",
      " |-- diagnostico_e: string (nullable = true)\n",
      " |-- diagnostico_f: string (nullable = true)\n",
      " |-- diagnostico_g: string (nullable = true)\n",
      " |-- diagnostico_h: string (nullable = true)\n",
      " |-- diagnostico_i: string (nullable = true)\n",
      " |-- diagnostico_j: string (nullable = true)\n",
      " |-- fin_peticion: timestamp (nullable = true)\n",
      " |-- id_peticion: string (nullable = true)\n",
      " |-- inicio_peticion: timestamp (nullable = true)\n",
      " |-- medico_atiende: string (nullable = true)\n",
      " |-- medico_operacion: string (nullable = true)\n",
      " |-- monto_reembolso: integer (nullable = true)\n",
      " |-- otros_medicos: string (nullable = true)\n",
      " |-- procedimiento_u: string (nullable = true)\n",
      " |-- procedimiento_v: string (nullable = true)\n",
      " |-- procedimiento_w: double (nullable = true)\n",
      " |-- procedimiento_x: double (nullable = true)\n",
      " |-- procedimiento_y: double (nullable = true)\n",
      " |-- procedimiento_z: double (nullable = true)\n",
      "\n"
     ]
    }
   ],
   "source": [
    "df_pacientes_rechazados.printSchema()"
   ]
  },
  {
   "cell_type": "code",
   "execution_count": 10,
   "metadata": {},
   "outputs": [],
   "source": [
    "# agregamos columna aprobado en los df_pacientes_aprobados y df_pacientes_rechazados\n",
    "df_pacientes_aprobados = df_pacientes_aprobados.withColumn(\"aprobado\", func.lit(True))\n",
    "df_pacientes_rechazados = df_pacientes_rechazados.withColumn(\"aprobado\", func.lit(False))"
   ]
  },
  {
   "cell_type": "code",
   "execution_count": 11,
   "metadata": {},
   "outputs": [],
   "source": [
    "# agregamos columnas faltantes en df_pacientes_rechazados\n",
    "# df_pacientes_rechazados = df_pacientes_rechazados.withColumn(\"fecha_admision\", func.lit(None).cast('timestamp'))\n",
    "# df_pacientes_rechazados = df_pacientes_rechazados.withColumn(\"fecha_desembolso\", func.lit(None).cast('timestamp'))\n",
    "# df_pacientes_rechazados = df_pacientes_rechazados.withColumn(\"grupo_diagnostico\", func.lit(None).cast('string'))\n",
    "df_pacientes_aprobados = df_pacientes_aprobados.drop(\"fecha_admision\",\"fecha_desembolso\",\"grupo_diagnostico\")"
   ]
  },
  {
   "cell_type": "code",
   "execution_count": 12,
   "metadata": {},
   "outputs": [],
   "source": [
    "# damos el mismo formato de columna en df_pacientes_rechazados\n",
    "df_pacientes_rechazados = df_pacientes_rechazados.withColumn(\"deducible\", func.col(\"deducible\").cast(\"double\"))\n",
    "df_pacientes_rechazados = df_pacientes_rechazados.withColumn(\"procedimiento_v\", func.col(\"procedimiento_v\").cast(\"double\"))"
   ]
  },
  {
   "cell_type": "code",
   "execution_count": 13,
   "metadata": {},
   "outputs": [],
   "source": [
    "# ordenamos el df_pacientes_rechazados en el mismo orden de df_pacientes aprobados para realizar el union\n",
    "df_pacientes_rechazados = df_pacientes_rechazados.select(df_pacientes_aprobados.columns)"
   ]
  },
  {
   "cell_type": "code",
   "execution_count": 14,
   "metadata": {},
   "outputs": [],
   "source": [
    "# creames el df_pacientes de la union de df_pacientes_aprobados con df_pacientes_rechazados\n",
    "df_pacientes = df_pacientes_aprobados.union(df_pacientes_rechazados)"
   ]
  },
  {
   "cell_type": "code",
   "execution_count": 15,
   "metadata": {},
   "outputs": [],
   "source": [
    "# a cada paciente agregamos la informacion del beneficiario\n",
    "df_pacientes_beneficiario = df_pacientes.join(df_beneficiario, on=[\"cod_beneficiario\"], how=\"left\")"
   ]
  },
  {
   "cell_type": "code",
   "execution_count": 16,
   "metadata": {},
   "outputs": [],
   "source": [
    "# agregamos la columna es_fraudulento en funcion de cada aprovisionador\n",
    "df_data = df_pacientes_beneficiario.join(df_aprovisionadores, on=[\"aprovisionador\"], how=\"left\")"
   ]
  },
  {
   "cell_type": "code",
   "execution_count": 18,
   "metadata": {},
   "outputs": [],
   "source": [
    "df_data = df_data.drop(\"cod_beneficiario\",\"aprovisionador\",\"id_peticion\",\"fin_peticion\",\"inicio_peticion\")"
   ]
  },
  {
   "cell_type": "code",
   "execution_count": 19,
   "metadata": {},
   "outputs": [
    {
     "name": "stdout",
     "output_type": "stream",
     "text": [
      "root\n",
      " |-- deducible: double (nullable = true)\n",
      " |-- diagnostico_a: string (nullable = true)\n",
      " |-- diagnostico_admision: string (nullable = true)\n",
      " |-- diagnostico_b: string (nullable = true)\n",
      " |-- diagnostico_c: string (nullable = true)\n",
      " |-- diagnostico_d: string (nullable = true)\n",
      " |-- diagnostico_e: string (nullable = true)\n",
      " |-- diagnostico_f: string (nullable = true)\n",
      " |-- diagnostico_g: string (nullable = true)\n",
      " |-- diagnostico_h: string (nullable = true)\n",
      " |-- diagnostico_i: string (nullable = true)\n",
      " |-- diagnostico_j: string (nullable = true)\n",
      " |-- medico_atiende: string (nullable = true)\n",
      " |-- medico_operacion: string (nullable = true)\n",
      " |-- monto_reembolso: integer (nullable = true)\n",
      " |-- otros_medicos: string (nullable = true)\n",
      " |-- procedimiento_u: string (nullable = true)\n",
      " |-- procedimiento_v: double (nullable = true)\n",
      " |-- procedimiento_w: double (nullable = true)\n",
      " |-- procedimiento_x: double (nullable = true)\n",
      " |-- procedimiento_y: double (nullable = true)\n",
      " |-- procedimiento_z: double (nullable = true)\n",
      " |-- aprobado: boolean (nullable = false)\n",
      " |-- alzheimer: integer (nullable = true)\n",
      " |-- artritis_reumatoide: integer (nullable = true)\n",
      " |-- cancer: integer (nullable = true)\n",
      " |-- ciudad: integer (nullable = true)\n",
      " |-- corazon_isquemico: integer (nullable = true)\n",
      " |-- depresion: integer (nullable = true)\n",
      " |-- diabetes: integer (nullable = true)\n",
      " |-- enfermedad_renal: string (nullable = true)\n",
      " |-- genero: integer (nullable = true)\n",
      " |-- infarto_cerebral: integer (nullable = true)\n",
      " |-- ips_deducible_anual: integer (nullable = true)\n",
      " |-- ips_reembolso_anual: integer (nullable = true)\n",
      " |-- meses_parte_a: integer (nullable = true)\n",
      " |-- meses_parte_b: integer (nullable = true)\n",
      " |-- muerte: timestamp (nullable = true)\n",
      " |-- municipio: integer (nullable = true)\n",
      " |-- nacimiento: timestamp (nullable = true)\n",
      " |-- obstruccion_pulmonar: integer (nullable = true)\n",
      " |-- op_deducible_anual: integer (nullable = true)\n",
      " |-- op_reembolso_anual: integer (nullable = true)\n",
      " |-- osteoporosis: integer (nullable = true)\n",
      " |-- problemas_corazon: integer (nullable = true)\n",
      " |-- problemas_rinon: integer (nullable = true)\n",
      " |-- raza: integer (nullable = true)\n",
      " |-- es_fraudulento: string (nullable = true)\n",
      "\n"
     ]
    }
   ],
   "source": [
    "df_data.printSchema()"
   ]
  },
  {
   "cell_type": "code",
   "execution_count": 27,
   "metadata": {},
   "outputs": [],
   "source": [
    "import h2o\n",
    "from h2o.automl import H2OAutoML"
   ]
  },
  {
   "cell_type": "code",
   "execution_count": 21,
   "metadata": {},
   "outputs": [
    {
     "name": "stdout",
     "output_type": "stream",
     "text": [
      "Checking whether there is an H2O instance running at http://localhost:54321 ..... not found.\n",
      "Attempting to start a local H2O server...\n",
      "  Java Version: java version \"1.8.0_221\"; Java(TM) SE Runtime Environment (build 1.8.0_221-b11); Java HotSpot(TM) 64-Bit Server VM (build 25.221-b11, mixed mode)\n",
      "  Starting server from /Users/josedavidarevaloespinosa/anaconda3/lib/python3.7/site-packages/h2o/backend/bin/h2o.jar\n",
      "  Ice root: /var/folders/kw/3d202bj112j_n1fzxg4hbw_00000gn/T/tmpzrgljud8\n",
      "  JVM stdout: /var/folders/kw/3d202bj112j_n1fzxg4hbw_00000gn/T/tmpzrgljud8/h2o_josedavidarevaloespinosa_started_from_python.out\n",
      "  JVM stderr: /var/folders/kw/3d202bj112j_n1fzxg4hbw_00000gn/T/tmpzrgljud8/h2o_josedavidarevaloespinosa_started_from_python.err\n",
      "  Server is running at http://127.0.0.1:54321\n",
      "Connecting to H2O server at http://127.0.0.1:54321 ... successful.\n"
     ]
    },
    {
     "data": {
      "text/html": [
       "<div style=\"overflow:auto\"><table style=\"width:50%\"><tr><td>H2O cluster uptime:</td>\n",
       "<td>01 secs</td></tr>\n",
       "<tr><td>H2O cluster timezone:</td>\n",
       "<td>America/Bogota</td></tr>\n",
       "<tr><td>H2O data parsing timezone:</td>\n",
       "<td>UTC</td></tr>\n",
       "<tr><td>H2O cluster version:</td>\n",
       "<td>3.26.0.6</td></tr>\n",
       "<tr><td>H2O cluster version age:</td>\n",
       "<td>4 days </td></tr>\n",
       "<tr><td>H2O cluster name:</td>\n",
       "<td>H2O_from_python_josedavidarevaloespinosa_vmxudk</td></tr>\n",
       "<tr><td>H2O cluster total nodes:</td>\n",
       "<td>1</td></tr>\n",
       "<tr><td>H2O cluster free memory:</td>\n",
       "<td>3.556 Gb</td></tr>\n",
       "<tr><td>H2O cluster total cores:</td>\n",
       "<td>4</td></tr>\n",
       "<tr><td>H2O cluster allowed cores:</td>\n",
       "<td>4</td></tr>\n",
       "<tr><td>H2O cluster status:</td>\n",
       "<td>accepting new members, healthy</td></tr>\n",
       "<tr><td>H2O connection url:</td>\n",
       "<td>http://127.0.0.1:54321</td></tr>\n",
       "<tr><td>H2O connection proxy:</td>\n",
       "<td>None</td></tr>\n",
       "<tr><td>H2O internal security:</td>\n",
       "<td>False</td></tr>\n",
       "<tr><td>H2O API Extensions:</td>\n",
       "<td>Amazon S3, XGBoost, Algos, AutoML, Core V3, TargetEncoder, Core V4</td></tr>\n",
       "<tr><td>Python version:</td>\n",
       "<td>3.7.3 final</td></tr></table></div>"
      ],
      "text/plain": [
       "--------------------------  ------------------------------------------------------------------\n",
       "H2O cluster uptime:         01 secs\n",
       "H2O cluster timezone:       America/Bogota\n",
       "H2O data parsing timezone:  UTC\n",
       "H2O cluster version:        3.26.0.6\n",
       "H2O cluster version age:    4 days\n",
       "H2O cluster name:           H2O_from_python_josedavidarevaloespinosa_vmxudk\n",
       "H2O cluster total nodes:    1\n",
       "H2O cluster free memory:    3.556 Gb\n",
       "H2O cluster total cores:    4\n",
       "H2O cluster allowed cores:  4\n",
       "H2O cluster status:         accepting new members, healthy\n",
       "H2O connection url:         http://127.0.0.1:54321\n",
       "H2O connection proxy:\n",
       "H2O internal security:      False\n",
       "H2O API Extensions:         Amazon S3, XGBoost, Algos, AutoML, Core V3, TargetEncoder, Core V4\n",
       "Python version:             3.7.3 final\n",
       "--------------------------  ------------------------------------------------------------------"
      ]
     },
     "metadata": {},
     "output_type": "display_data"
    }
   ],
   "source": [
    "h2o.init()"
   ]
  },
  {
   "cell_type": "code",
   "execution_count": null,
   "metadata": {},
   "outputs": [],
   "source": [
    "# !pip install h2o_pysparkling_2.2"
   ]
  },
  {
   "cell_type": "code",
   "execution_count": 22,
   "metadata": {},
   "outputs": [],
   "source": [
    "pdf = df_data.toPandas()"
   ]
  },
  {
   "cell_type": "code",
   "execution_count": 23,
   "metadata": {},
   "outputs": [
    {
     "name": "stdout",
     "output_type": "stream",
     "text": [
      "Parse progress: |█████████████████████████████████████████████████████████| 100%\n"
     ]
    }
   ],
   "source": [
    "hdf = h2o.H2OFrame(pdf)"
   ]
  },
  {
   "cell_type": "code",
   "execution_count": 25,
   "metadata": {},
   "outputs": [],
   "source": [
    "x = ['deducible', 'diagnostico_a', 'diagnostico_admision', 'diagnostico_b',\n",
    "       'diagnostico_c', 'diagnostico_d', 'diagnostico_e', 'diagnostico_f',\n",
    "       'diagnostico_g', 'diagnostico_h', 'diagnostico_i', 'diagnostico_j',\n",
    "       'medico_atiende', 'medico_operacion', 'monto_reembolso',\n",
    "       'otros_medicos', 'procedimiento_u', 'procedimiento_v',\n",
    "       'procedimiento_w', 'procedimiento_x', 'procedimiento_y',\n",
    "       'procedimiento_z', 'aprobado', 'alzheimer', 'artritis_reumatoide',\n",
    "       'cancer', 'ciudad', 'corazon_isquemico', 'depresion', 'diabetes',\n",
    "       'enfermedad_renal', 'genero', 'infarto_cerebral', 'ips_deducible_anual',\n",
    "       'ips_reembolso_anual', 'meses_parte_a', 'meses_parte_b', 'muerte',\n",
    "       'municipio', 'nacimiento', 'obstruccion_pulmonar', 'op_deducible_anual',\n",
    "       'op_reembolso_anual', 'osteoporosis', 'problemas_corazon',\n",
    "       'problemas_rinon', 'raza']\n",
    "y = 'es_fraudulento'"
   ]
  },
  {
   "cell_type": "code",
   "execution_count": 28,
   "metadata": {},
   "outputs": [],
   "source": [
    "aml = H2OAutoML(max_models=5)"
   ]
  },
  {
   "cell_type": "code",
   "execution_count": 29,
   "metadata": {},
   "outputs": [],
   "source": [
    "train, test, valid = hdf.split_frame(ratios=[0.8,0.1])"
   ]
  },
  {
   "cell_type": "code",
   "execution_count": 30,
   "metadata": {},
   "outputs": [
    {
     "name": "stdout",
     "output_type": "stream",
     "text": [
      "AutoML progress: |████████████████████████████████████████████████████████| 100%\n"
     ]
    }
   ],
   "source": [
    "aml.train(x=x,y=y,training_frame=train, validation_frame=valid )"
   ]
  },
  {
   "cell_type": "code",
   "execution_count": 31,
   "metadata": {},
   "outputs": [
    {
     "data": {
      "text/html": [
       "<table>\n",
       "<thead>\n",
       "<tr><th>model_id                        </th><th style=\"text-align: right;\">    auc</th><th style=\"text-align: right;\">  logloss</th><th style=\"text-align: right;\">  mean_per_class_error</th><th style=\"text-align: right;\">    rmse</th><th style=\"text-align: right;\">     mse</th></tr>\n",
       "</thead>\n",
       "<tbody>\n",
       "<tr><td>XGBoost_1_AutoML_20191006_234426</td><td style=\"text-align: right;\">0.86724</td><td style=\"text-align: right;\"> 0.464225</td><td style=\"text-align: right;\">              0.214695</td><td style=\"text-align: right;\">0.384306</td><td style=\"text-align: right;\">0.147691</td></tr>\n",
       "</tbody>\n",
       "</table>"
      ]
     },
     "metadata": {},
     "output_type": "display_data"
    },
    {
     "data": {
      "text/plain": []
     },
     "execution_count": 31,
     "metadata": {},
     "output_type": "execute_result"
    }
   ],
   "source": [
    "aml.leaderboard"
   ]
  },
  {
   "cell_type": "code",
   "execution_count": 32,
   "metadata": {},
   "outputs": [],
   "source": [
    "model = aml.leader"
   ]
  },
  {
   "cell_type": "code",
   "execution_count": null,
   "metadata": {},
   "outputs": [],
   "source": [
    "model.model_id = 'fraud_model'"
   ]
  }
 ],
 "metadata": {
  "kernelspec": {
   "display_name": "Python 3",
   "language": "python",
   "name": "python3"
  },
  "language_info": {
   "codemirror_mode": {
    "name": "ipython",
    "version": 3
   },
   "file_extension": ".py",
   "mimetype": "text/x-python",
   "name": "python",
   "nbconvert_exporter": "python",
   "pygments_lexer": "ipython3",
   "version": "3.7.3"
  }
 },
 "nbformat": 4,
 "nbformat_minor": 2
}
